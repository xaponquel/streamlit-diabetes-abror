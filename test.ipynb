{
 "cells": [
  {
   "cell_type": "code",
   "execution_count": 1,
   "metadata": {},
   "outputs": [],
   "source": [
    "import pandas as pd"
   ]
  },
  {
   "cell_type": "code",
   "execution_count": 2,
   "metadata": {},
   "outputs": [
    {
     "name": "stderr",
     "output_type": "stream",
     "text": [
      "c:\\Users\\Ahmad Abror\\AppData\\Local\\Programs\\Python\\Python310\\lib\\site-packages\\_distutils_hack\\__init__.py:33: UserWarning: Setuptools is replacing distutils.\n",
      "  warnings.warn(\"Setuptools is replacing distutils.\")\n"
     ]
    },
    {
     "ename": "QtBindingsNotFoundError",
     "evalue": "No Qt bindings could be found",
     "output_type": "error",
     "traceback": [
      "\u001b[1;31m---------------------------------------------------------------------------\u001b[0m",
      "\u001b[1;31mModuleNotFoundError\u001b[0m                       Traceback (most recent call last)",
      "File \u001b[1;32mc:\\Users\\Ahmad Abror\\AppData\\Local\\Programs\\Python\\Python310\\lib\\site-packages\\qtpy\\__init__.py:252\u001b[0m\n\u001b[0;32m    251\u001b[0m \u001b[39mtry\u001b[39;00m:\n\u001b[1;32m--> 252\u001b[0m     \u001b[39mfrom\u001b[39;00m \u001b[39mPySide6\u001b[39;00m \u001b[39mimport\u001b[39;00m __version__ \u001b[39mas\u001b[39;00m PYSIDE_VERSION  \u001b[39m# analysis:ignore\u001b[39;00m\n\u001b[0;32m    253\u001b[0m     \u001b[39mfrom\u001b[39;00m \u001b[39mPySide6\u001b[39;00m\u001b[39m.\u001b[39;00m\u001b[39mQtCore\u001b[39;00m \u001b[39mimport\u001b[39;00m __version__ \u001b[39mas\u001b[39;00m QT_VERSION  \u001b[39m# analysis:ignore\u001b[39;00m\n",
      "\u001b[1;31mModuleNotFoundError\u001b[0m: No module named 'PySide6'",
      "\nDuring handling of the above exception, another exception occurred:\n",
      "\u001b[1;31mQtBindingsNotFoundError\u001b[0m                   Traceback (most recent call last)",
      "Cell \u001b[1;32mIn[2], line 1\u001b[0m\n\u001b[1;32m----> 1\u001b[0m pd\u001b[39m.\u001b[39;49mshow_versions(as_json\u001b[39m=\u001b[39;49m\u001b[39mFalse\u001b[39;49;00m)\n",
      "File \u001b[1;32mc:\\Users\\Ahmad Abror\\AppData\\Local\\Programs\\Python\\Python310\\lib\\site-packages\\pandas\\util\\_print_versions.py:109\u001b[0m, in \u001b[0;36mshow_versions\u001b[1;34m(as_json)\u001b[0m\n\u001b[0;32m     94\u001b[0m \u001b[39m\"\"\"\u001b[39;00m\n\u001b[0;32m     95\u001b[0m \u001b[39mProvide useful information, important for bug reports.\u001b[39;00m\n\u001b[0;32m     96\u001b[0m \n\u001b[1;32m   (...)\u001b[0m\n\u001b[0;32m    106\u001b[0m \u001b[39m    * If True, outputs info in JSON format to the console.\u001b[39;00m\n\u001b[0;32m    107\u001b[0m \u001b[39m\"\"\"\u001b[39;00m\n\u001b[0;32m    108\u001b[0m sys_info \u001b[39m=\u001b[39m _get_sys_info()\n\u001b[1;32m--> 109\u001b[0m deps \u001b[39m=\u001b[39m _get_dependency_info()\n\u001b[0;32m    111\u001b[0m \u001b[39mif\u001b[39;00m as_json:\n\u001b[0;32m    112\u001b[0m     j \u001b[39m=\u001b[39m {\u001b[39m\"\u001b[39m\u001b[39msystem\u001b[39m\u001b[39m\"\u001b[39m: sys_info, \u001b[39m\"\u001b[39m\u001b[39mdependencies\u001b[39m\u001b[39m\"\u001b[39m: deps}\n",
      "File \u001b[1;32mc:\\Users\\Ahmad Abror\\AppData\\Local\\Programs\\Python\\Python310\\lib\\site-packages\\pandas\\util\\_print_versions.py:88\u001b[0m, in \u001b[0;36m_get_dependency_info\u001b[1;34m()\u001b[0m\n\u001b[0;32m     86\u001b[0m result: \u001b[39mdict\u001b[39m[\u001b[39mstr\u001b[39m, JSONSerializable] \u001b[39m=\u001b[39m {}\n\u001b[0;32m     87\u001b[0m \u001b[39mfor\u001b[39;00m modname \u001b[39min\u001b[39;00m deps:\n\u001b[1;32m---> 88\u001b[0m     mod \u001b[39m=\u001b[39m import_optional_dependency(modname, errors\u001b[39m=\u001b[39;49m\u001b[39m\"\u001b[39;49m\u001b[39mignore\u001b[39;49m\u001b[39m\"\u001b[39;49m)\n\u001b[0;32m     89\u001b[0m     result[modname] \u001b[39m=\u001b[39m get_version(mod) \u001b[39mif\u001b[39;00m mod \u001b[39melse\u001b[39;00m \u001b[39mNone\u001b[39;00m\n\u001b[0;32m     90\u001b[0m \u001b[39mreturn\u001b[39;00m result\n",
      "File \u001b[1;32mc:\\Users\\Ahmad Abror\\AppData\\Local\\Programs\\Python\\Python310\\lib\\site-packages\\pandas\\compat\\_optional.py:142\u001b[0m, in \u001b[0;36mimport_optional_dependency\u001b[1;34m(name, extra, errors, min_version)\u001b[0m\n\u001b[0;32m    137\u001b[0m msg \u001b[39m=\u001b[39m (\n\u001b[0;32m    138\u001b[0m     \u001b[39mf\u001b[39m\u001b[39m\"\u001b[39m\u001b[39mMissing optional dependency \u001b[39m\u001b[39m'\u001b[39m\u001b[39m{\u001b[39;00minstall_name\u001b[39m}\u001b[39;00m\u001b[39m'\u001b[39m\u001b[39m. \u001b[39m\u001b[39m{\u001b[39;00mextra\u001b[39m}\u001b[39;00m\u001b[39m \u001b[39m\u001b[39m\"\u001b[39m\n\u001b[0;32m    139\u001b[0m     \u001b[39mf\u001b[39m\u001b[39m\"\u001b[39m\u001b[39mUse pip or conda to install \u001b[39m\u001b[39m{\u001b[39;00minstall_name\u001b[39m}\u001b[39;00m\u001b[39m.\u001b[39m\u001b[39m\"\u001b[39m\n\u001b[0;32m    140\u001b[0m )\n\u001b[0;32m    141\u001b[0m \u001b[39mtry\u001b[39;00m:\n\u001b[1;32m--> 142\u001b[0m     module \u001b[39m=\u001b[39m importlib\u001b[39m.\u001b[39;49mimport_module(name)\n\u001b[0;32m    143\u001b[0m \u001b[39mexcept\u001b[39;00m \u001b[39mImportError\u001b[39;00m:\n\u001b[0;32m    144\u001b[0m     \u001b[39mif\u001b[39;00m errors \u001b[39m==\u001b[39m \u001b[39m\"\u001b[39m\u001b[39mraise\u001b[39m\u001b[39m\"\u001b[39m:\n",
      "File \u001b[1;32mc:\\Users\\Ahmad Abror\\AppData\\Local\\Programs\\Python\\Python310\\lib\\importlib\\__init__.py:126\u001b[0m, in \u001b[0;36mimport_module\u001b[1;34m(name, package)\u001b[0m\n\u001b[0;32m    124\u001b[0m             \u001b[39mbreak\u001b[39;00m\n\u001b[0;32m    125\u001b[0m         level \u001b[39m+\u001b[39m\u001b[39m=\u001b[39m \u001b[39m1\u001b[39m\n\u001b[1;32m--> 126\u001b[0m \u001b[39mreturn\u001b[39;00m _bootstrap\u001b[39m.\u001b[39;49m_gcd_import(name[level:], package, level)\n",
      "File \u001b[1;32m<frozen importlib._bootstrap>:1050\u001b[0m, in \u001b[0;36m_gcd_import\u001b[1;34m(name, package, level)\u001b[0m\n",
      "File \u001b[1;32m<frozen importlib._bootstrap>:1027\u001b[0m, in \u001b[0;36m_find_and_load\u001b[1;34m(name, import_)\u001b[0m\n",
      "File \u001b[1;32m<frozen importlib._bootstrap>:1006\u001b[0m, in \u001b[0;36m_find_and_load_unlocked\u001b[1;34m(name, import_)\u001b[0m\n",
      "File \u001b[1;32m<frozen importlib._bootstrap>:688\u001b[0m, in \u001b[0;36m_load_unlocked\u001b[1;34m(spec)\u001b[0m\n",
      "File \u001b[1;32m<frozen importlib._bootstrap_external>:883\u001b[0m, in \u001b[0;36mexec_module\u001b[1;34m(self, module)\u001b[0m\n",
      "File \u001b[1;32m<frozen importlib._bootstrap>:241\u001b[0m, in \u001b[0;36m_call_with_frames_removed\u001b[1;34m(f, *args, **kwds)\u001b[0m\n",
      "File \u001b[1;32mc:\\Users\\Ahmad Abror\\AppData\\Local\\Programs\\Python\\Python310\\lib\\site-packages\\qtpy\\__init__.py:259\u001b[0m\n\u001b[0;32m    256\u001b[0m     QT6 \u001b[39m=\u001b[39m PYSIDE6 \u001b[39m=\u001b[39m \u001b[39mTrue\u001b[39;00m\n\u001b[0;32m    258\u001b[0m \u001b[39mexcept\u001b[39;00m \u001b[39mImportError\u001b[39;00m:\n\u001b[1;32m--> 259\u001b[0m     \u001b[39mraise\u001b[39;00m QtBindingsNotFoundError()\n\u001b[0;32m    260\u001b[0m \u001b[39melse\u001b[39;00m:\n\u001b[0;32m    261\u001b[0m     os\u001b[39m.\u001b[39menviron[QT_API] \u001b[39m=\u001b[39m API\n",
      "\u001b[1;31mQtBindingsNotFoundError\u001b[0m: No Qt bindings could be found"
     ]
    }
   ],
   "source": [
    "pd.show_versions(as_json=False)"
   ]
  },
  {
   "cell_type": "code",
   "execution_count": null,
   "metadata": {},
   "outputs": [],
   "source": []
  }
 ],
 "metadata": {
  "kernelspec": {
   "display_name": "Python 3",
   "language": "python",
   "name": "python3"
  },
  "language_info": {
   "codemirror_mode": {
    "name": "ipython",
    "version": 3
   },
   "file_extension": ".py",
   "mimetype": "text/x-python",
   "name": "python",
   "nbconvert_exporter": "python",
   "pygments_lexer": "ipython3",
   "version": "3.10.6"
  },
  "orig_nbformat": 4
 },
 "nbformat": 4,
 "nbformat_minor": 2
}
